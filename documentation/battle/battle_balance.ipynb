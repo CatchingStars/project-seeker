{
 "cells": [
  {
   "metadata": {
    "ExecuteTime": {
     "end_time": "2024-06-23T16:10:55.707551Z",
     "start_time": "2024-06-23T16:10:55.394777Z"
    }
   },
   "cell_type": "code",
   "source": [
    "import matplotlib.pyplot as plt\n",
    "import numpy as np\n",
    "from random import randrange\n",
    "import random"
   ],
   "outputs": [],
   "execution_count": 1
  },
  {
   "cell_type": "code",
   "source": [
    "class Personage:\n",
    "    def __init__(\n",
    "            self,\n",
    "            hp,\n",
    "            attack,\n",
    "            defense,\n",
    "            strength,\n",
    "            agility,\n",
    "            wisdom\n",
    "    ):\n",
    "        self.hp = hp\n",
    "        self.attack = attack\n",
    "        self.defense = defense\n",
    "        self.strength = strength\n",
    "        self.agility = agility\n",
    "        self.wisdom = wisdom\n",
    "\n",
    "    def advantage(self, other) -> float:\n",
    "        multiplier = 2\n",
    "        # Бой строится на принципе КНБ сила > ловкость > мудрость > сила\n",
    "        # Считаем разницу между смежными характеристиками относительно первого персонажа\n",
    "        # Например итоговая сила первого персонажа = s1 - a2 / 3 - w2\n",
    "        # потом считаем разницу между получившимися характеристиками\n",
    "        # Если не будет функция max, тогда в итоговой сумме будет просто 0 всегда\n",
    "        # s1=1, a1=13, w1=1, s2=1, a2=1, w2=13 => s1=-12.5, a1=5.5, w1=-0.5, s2 = -6.5, a2=-0.5, w3=-0.5\n",
    "        strength1 = max(self.strength - other.agility / multiplier - other.wisdom, 0)\n",
    "        agility1 = max(self.agility - other.wisdom / multiplier - other.strength, 0)\n",
    "        wisdom1 = max(self.wisdom - other.strength / multiplier - other.agility, 0)\n",
    "        strength2 = max(other.strength - self.agility / multiplier - self.wisdom, 0)\n",
    "        agility2 = max(other.agility - self.wisdom / multiplier - self.strength, 0)\n",
    "        wisdom2 = max(other.wisdom - self.strength / multiplier - self.agility, 0)\n",
    "        # print(strength1, agility1, wisdom1)\n",
    "        # print(strength2, agility2, wisdom2)\n",
    "        advantage = (strength1 + agility1 + wisdom1) - (strength2 + agility2 + wisdom2)\n",
    "        #print(advantage)\n",
    "        if advantage <= 0:\n",
    "            return 1\n",
    "        return 1 + (-4.125 / (advantage + 8.25) + 0.5)\n",
    "\n",
    "\n",
    "def default_pers():\n",
    "    return Personage(500, 50, 20, 5, 5, 5)\n",
    "\n",
    "\n",
    "def empty_pers():\n",
    "    return Personage(500, 50, 20, 1, 1, 1)\n",
    "\n",
    "\n",
    "def pers_with_max_strength():\n",
    "    return Personage(500, 50, 20, 13, 1, 1)\n",
    "\n",
    "\n",
    "def pers_with_max_agility():\n",
    "    return Personage(500, 50, 20, 1, 13, 1)\n",
    "\n",
    "\n",
    "def pers_with_max_wisdom():\n",
    "    return Personage(500, 50, 20, 1, 1, 13)"
   ],
   "metadata": {
    "collapsed": false,
    "ExecuteTime": {
     "end_time": "2024-06-23T16:10:55.713171Z",
     "start_time": "2024-06-23T16:10:55.708546Z"
    }
   },
   "outputs": [],
   "execution_count": 2
  },
  {
   "cell_type": "code",
   "source": [
    "# найти максимальное преимущество\n",
    "import random\n",
    "\n",
    "repeat = 500000\n",
    "max_advantage = 0\n",
    "final_pers1 = None\n",
    "final_pers2 = None\n",
    "\n",
    "def increase_random_characteristic(pers: Personage):\n",
    "    r = random.randrange(4)\n",
    "    if r == 0:\n",
    "        pers.strength += 1\n",
    "    elif r == 1:\n",
    "        pers.agility += 1\n",
    "    else:\n",
    "        pers.wisdom += 1\n",
    "\n",
    "for _ in range(repeat):\n",
    "    pers1 = empty_pers()\n",
    "    pers2 = empty_pers()\n",
    "    for _ in range(12):\n",
    "        increase_random_characteristic(pers1)\n",
    "        increase_random_characteristic(pers2)\n",
    "    if abs(pers1.advantage(pers2)) > max_advantage:\n",
    "        max_advantage = abs(pers1.advantage(pers2))\n",
    "        final_pers1 = pers1\n",
    "        final_pers2 = pers2\n",
    "\n",
    "print(max_advantage)\n",
    "print(final_pers1.strength, final_pers1.agility, final_pers1.wisdom)\n",
    "print(final_pers2.strength, final_pers2.agility, final_pers2.wisdom)"
   ],
   "metadata": {
    "collapsed": false,
    "ExecuteTime": {
     "end_time": "2024-06-23T16:10:58.971222Z",
     "start_time": "2024-06-23T16:10:55.714038Z"
    }
   },
   "outputs": [
    {
     "name": "stdout",
     "output_type": "stream",
     "text": [
      "1.1764705882352942\n",
      "2 11 2\n",
      "1 3 11\n"
     ]
    }
   ],
   "execution_count": 3
  },
  {
   "metadata": {
    "ExecuteTime": {
     "end_time": "2024-06-23T16:10:58.974760Z",
     "start_time": "2024-06-23T16:10:58.972503Z"
    }
   },
   "cell_type": "code",
   "source": [
    "p1 = Personage(500, 50, 20, 2, 5, 8)\n",
    "p2 = Personage(500, 50, 20, 5, 5, 5)\n",
    "print(p1.advantage(p2))"
   ],
   "outputs": [
    {
     "name": "stdout",
     "output_type": "stream",
     "text": [
      "1.0285714285714285\n"
     ]
    }
   ],
   "execution_count": 4
  },
  {
   "metadata": {
    "ExecuteTime": {
     "end_time": "2024-06-23T16:10:58.995438Z",
     "start_time": "2024-06-23T16:10:58.975285Z"
    }
   },
   "cell_type": "code",
   "source": [
    "p1 = Personage(500, 50, 20, 9, 1, 5)\n",
    "p2 = Personage(500, 50, 20, 5, 5, 5)\n",
    "print(p1.advantage(p2))"
   ],
   "outputs": [
    {
     "name": "stdout",
     "output_type": "stream",
     "text": [
      "1.0769230769230769\n"
     ]
    }
   ],
   "execution_count": 5
  },
  {
   "metadata": {
    "ExecuteTime": {
     "end_time": "2024-06-23T16:10:59.006621Z",
     "start_time": "2024-06-23T16:10:58.996506Z"
    }
   },
   "cell_type": "code",
   "source": [
    "p1 = Personage(500, 50, 20, 5, 9, 1)\n",
    "p2 = Personage(500, 50, 20, 5, 5, 5)\n",
    "print(p1.advantage(p2))"
   ],
   "outputs": [
    {
     "name": "stdout",
     "output_type": "stream",
     "text": [
      "1.0769230769230769\n"
     ]
    }
   ],
   "execution_count": 6
  },
  {
   "metadata": {
    "ExecuteTime": {
     "end_time": "2024-06-23T16:10:59.016631Z",
     "start_time": "2024-06-23T16:10:59.007508Z"
    }
   },
   "cell_type": "code",
   "source": "print(pers_with_max_agility().advantage(pers_with_max_wisdom()))",
   "outputs": [
    {
     "name": "stdout",
     "output_type": "stream",
     "text": [
      "1.2\n"
     ]
    }
   ],
   "execution_count": 7
  },
  {
   "cell_type": "markdown",
   "source": [],
   "metadata": {
    "collapsed": false
   }
  },
  {
   "cell_type": "code",
   "source": [
    "# в dodge и advantage_percent используется разновидности функции 1/x которая стремится к определённой границе,\n",
    "# но никогда её не достигает\n",
    "\n",
    "def calculate_dodge_chance(diff: int, offset_x=-34.15, base_chance=5) -> float:\n",
    "    if diff > offset_x:\n",
    "        return base_chance + max(-1707.69 / (diff - offset_x) + 50, 0)\n",
    "    else:\n",
    "        return base_chance\n",
    "\n",
    "# Set the range for diff values\n",
    "diff_values = np.linspace(0, 100, 300)\n",
    "chance_values = [calculate_dodge_chance(diff) for diff in diff_values]\n",
    "\n",
    "plt.figure(figsize=(10, 5))\n",
    "plt.plot(diff_values, chance_values, label='Chance')\n",
    "plt.title('Dodge chance depending on agility diff')\n",
    "plt.xlabel('Diff')\n",
    "plt.ylabel('Chance')\n",
    "plt.grid(True)\n",
    "plt.legend()\n",
    "plt.show()\n",
    "\n"
   ],
   "metadata": {
    "collapsed": false,
    "ExecuteTime": {
     "end_time": "2024-06-23T16:10:59.095254Z",
     "start_time": "2024-06-23T16:10:59.017208Z"
    }
   },
   "outputs": [
    {
     "data": {
      "text/plain": [
       "<Figure size 1000x500 with 1 Axes>"
      ],
      "image/png": "[encoded data removed]"
     },
     "metadata": {},
     "output_type": "display_data"
    }
   ],
   "execution_count": 8
  },
  {
   "metadata": {
    "ExecuteTime": {
     "end_time": "2024-06-23T16:10:59.171962Z",
     "start_time": "2024-06-23T16:10:59.095842Z"
    }
   },
   "cell_type": "code",
   "source": [
    "def calculate_crit_chance(diff: int, offset_x=-23.29, base_chance=5) -> float:\n",
    "    if diff > offset_x:\n",
    "        return base_chance + max(-1164.7 / (diff - offset_x) + 50, 0)\n",
    "    else:\n",
    "        return base_chance\n",
    "\n",
    "\n",
    "# Set the range for diff values\n",
    "diff_values = np.linspace(0, 100, 300)\n",
    "chance_values = [calculate_crit_chance(diff) for diff in diff_values]\n",
    "\n",
    "plt.figure(figsize=(10, 5))\n",
    "plt.plot(diff_values, chance_values, label='Chance')\n",
    "plt.title('Crit chance depending on wisdom diff')\n",
    "plt.xlabel('Diff')\n",
    "plt.ylabel('Chance')\n",
    "plt.grid(True)\n",
    "plt.legend()\n",
    "plt.show()"
   ],
   "outputs": [
    {
     "data": {
      "text/plain": [
       "<Figure size 1000x500 with 1 Axes>"
      ],
      "image/png": "[encoded data removed]"
     },
     "metadata": {},
     "output_type": "display_data"
    }
   ],
   "execution_count": 9
  },
  {
   "metadata": {
    "ExecuteTime": {
     "end_time": "2024-06-23T16:10:59.268283Z",
     "start_time": "2024-06-23T16:10:59.172813Z"
    }
   },
   "cell_type": "code",
   "source": [
    "def calculate_attack_bonus(diff: int, offset_x=-15, base_bonus=0) -> float:\n",
    "    if diff > offset_x:\n",
    "        return base_bonus + max(-6 / (diff - offset_x) + 0.4, 0)\n",
    "    else:\n",
    "        return base_bonus\n",
    "\n",
    "# Set the range for diff values\n",
    "diff_values = np.linspace(0, 100, 300)\n",
    "chance_values = [calculate_attack_bonus(diff) for diff in diff_values]\n",
    "\n",
    "plt.figure(figsize=(10, 5))\n",
    "plt.plot(diff_values, chance_values, label='Chance')\n",
    "plt.title('Attack bonus depending on strength diff')\n",
    "plt.xlabel('Diff')\n",
    "plt.ylabel('Bonus')\n",
    "plt.grid(True)\n",
    "plt.legend()\n",
    "plt.show()"
   ],
   "outputs": [
    {
     "data": {
      "text/plain": [
       "<Figure size 1000x500 with 1 Axes>"
      ],
      "image/png": "[encoded data removed]"
     },
     "metadata": {},
     "output_type": "display_data"
    }
   ],
   "execution_count": 10
  },
  {
   "metadata": {
    "ExecuteTime": {
     "end_time": "2024-06-23T16:10:59.317305Z",
     "start_time": "2024-06-23T16:10:59.269633Z"
    }
   },
   "cell_type": "code",
   "source": [
    "def calculate_defense_bonus(diff: int, offset_x=-15, base_bonus=0) -> float:\n",
    "    return 0\n",
    "\n",
    "# Set the range for diff values\n",
    "diff_values = np.linspace(0, 100, 300)\n",
    "chance_values = [calculate_defense_bonus(diff) for diff in diff_values]\n",
    "\n",
    "plt.figure(figsize=(10, 5))\n",
    "plt.plot(diff_values, chance_values, label='Chance')\n",
    "plt.title('Defense bonus depending on strength diff')\n",
    "plt.xlabel('Diff')\n",
    "plt.ylabel('Bonus')\n",
    "plt.grid(True)\n",
    "plt.legend()\n",
    "plt.show()"
   ],
   "outputs": [
    {
     "data": {
      "text/plain": [
       "<Figure size 1000x500 with 1 Axes>"
      ],
      "image/png": "[encoded data removed]"
     },
     "metadata": {},
     "output_type": "display_data"
    }
   ],
   "execution_count": 11
  },
  {
   "metadata": {
    "ExecuteTime": {
     "end_time": "2024-06-23T16:10:59.321623Z",
     "start_time": "2024-06-23T16:10:59.317985Z"
    }
   },
   "cell_type": "code",
   "source": [
    "def dodge(agility1: int, agility2: int) -> bool:\n",
    "    diff = agility1 - agility2\n",
    "    result = random.randrange(100) < calculate_dodge_chance(diff)\n",
    "    # print(agility1, chance, result)\n",
    "    return result\n",
    "\n",
    "def crit(wisdom1: int, wisdom2: int) -> float:\n",
    "    diff = wisdom1 - wisdom2\n",
    "    chance = calculate_crit_chance(diff)\n",
    "    if random.randrange(100) < chance:\n",
    "        # return calculate_crit_multiplier(diff)\n",
    "        return 2\n",
    "    else:\n",
    "        return 1\n",
    "\n",
    "def attack_multiplier(strength1: int, strength2: int) -> float:\n",
    "    deviation = 0.1\n",
    "    diff = strength1 - strength2\n",
    "    return random.uniform(1 - deviation, 1 + deviation) + calculate_attack_bonus(diff)\n",
    "\n",
    "def defense_multiplier(strength1: int, strength2: int) -> float:\n",
    "    deviation = 0.1\n",
    "    diff = strength1 - strength2\n",
    "    return random.uniform(1 - deviation, 1 + deviation) + calculate_defense_bonus(diff)\n",
    "\n",
    "def battle(pers1: Personage, pers2: Personage) -> bool:\n",
    "    # Бой строится на принципе КНБ сила > ловкость > мудрость > сила\n",
    "    turn1 = randrange(2) == 0\n",
    "    bonus1 = pers1.advantage(pers2)\n",
    "    bonus2 = pers2.advantage(pers1)\n",
    "    # print(\"bonus 1\", bonus1, \"bonus 2\", bonus2)\n",
    "    pers1.total_hp = pers1.hp + 4 * pers1.defense * defense_multiplier(pers1.strength, pers1.strength)\n",
    "    pers2.total_hp = pers2.hp + 4 * pers2.defense * defense_multiplier(pers2.strength, pers2.strength)\n",
    "    while pers1.total_hp > 0 and pers2.total_hp > 0:\n",
    "        if turn1:\n",
    "            if not dodge(pers2.agility, pers1.agility):\n",
    "                attack = pers1.attack \\\n",
    "                         * bonus1 \\\n",
    "                         * crit(pers1.wisdom, pers2.wisdom) \\\n",
    "                         * attack_multiplier(pers1.strength, pers2.strength)\n",
    "                pers2.total_hp -= attack\n",
    "        else:\n",
    "            if not dodge(pers1.agility, pers2.agility):\n",
    "                attack = pers2.attack *\\\n",
    "                         bonus2 *\\\n",
    "                         crit(pers2.wisdom, pers1.wisdom) *\\\n",
    "                         attack_multiplier(pers2.strength, pers1.strength)\n",
    "                pers1.total_hp -= attack\n",
    "        turn1 = not turn1\n",
    "    # print(pers1.total_hp, pers2.total_hp)\n",
    "    return pers1.total_hp > 0"
   ],
   "outputs": [],
   "execution_count": 12
  },
  {
   "cell_type": "code",
   "source": [
    "repeat = 5000"
   ],
   "metadata": {
    "collapsed": false,
    "ExecuteTime": {
     "end_time": "2024-06-23T16:10:59.336634Z",
     "start_time": "2024-06-23T16:10:59.322162Z"
    }
   },
   "outputs": [],
   "execution_count": 13
  },
  {
   "metadata": {},
   "cell_type": "markdown",
   "source": "## Считаем винрейты"
  },
  {
   "cell_type": "code",
   "source": [
    "wins = 0\n",
    "min_hp = 10000\n",
    "for _ in range(repeat):\n",
    "    personage1 = pers_with_max_strength()\n",
    "    personage2 = pers_with_max_agility()\n",
    "    wins += 1 if battle(personage1, personage2) else 0\n",
    "    min_hp = min(personage1.total_hp, min_hp)\n",
    "print('Сила против ловкости: ', wins / repeat)\n",
    "# print(min_hp)"
   ],
   "metadata": {
    "collapsed": false,
    "ExecuteTime": {
     "end_time": "2024-06-23T16:10:59.459820Z",
     "start_time": "2024-06-23T16:10:59.337122Z"
    }
   },
   "outputs": [
    {
     "name": "stdout",
     "output_type": "stream",
     "text": [
      "Сила против ловкости:  0.8132\n"
     ]
    }
   ],
   "execution_count": 14
  },
  {
   "cell_type": "code",
   "source": [
    "wins = 0\n",
    "min_hp = 10000\n",
    "for _ in range(repeat):\n",
    "    personage1 = pers_with_max_agility()\n",
    "    personage2 = pers_with_max_wisdom()\n",
    "    wins += 1 if battle(personage1, personage2) else 0\n",
    "    min_hp = min(personage1.hp, min_hp)\n",
    "print('Ловкость против мудрости: ', wins / repeat)\n",
    "# print(min_hp)"
   ],
   "metadata": {
    "collapsed": false,
    "ExecuteTime": {
     "end_time": "2024-06-23T16:10:59.573443Z",
     "start_time": "2024-06-23T16:10:59.460748Z"
    }
   },
   "outputs": [
    {
     "name": "stdout",
     "output_type": "stream",
     "text": [
      "Ловкость против мудрости:  0.8152\n"
     ]
    }
   ],
   "execution_count": 15
  },
  {
   "cell_type": "code",
   "source": [
    "wins = 0\n",
    "min_hp = 10000\n",
    "for _ in range(repeat):\n",
    "    personage1 = pers_with_max_wisdom()\n",
    "    personage2 = pers_with_max_strength()\n",
    "    wins += 1 if battle(personage1, personage2) else 0\n",
    "    min_hp = min(personage1.hp, min_hp)\n",
    "print('Мудрость против силы: ', wins / repeat)\n",
    "# print(min_hp)"
   ],
   "metadata": {
    "collapsed": false,
    "ExecuteTime": {
     "end_time": "2024-06-23T16:10:59.672616Z",
     "start_time": "2024-06-23T16:10:59.574201Z"
    }
   },
   "outputs": [
    {
     "name": "stdout",
     "output_type": "stream",
     "text": [
      "Мудрость против силы:  0.8072\n"
     ]
    }
   ],
   "execution_count": 16
  },
  {
   "metadata": {
    "ExecuteTime": {
     "end_time": "2024-06-23T16:10:59.784777Z",
     "start_time": "2024-06-23T16:10:59.673179Z"
    }
   },
   "cell_type": "code",
   "source": [
    "wins = 0\n",
    "min_hp = 10000\n",
    "for _ in range(repeat):\n",
    "    personage1 = pers_with_max_wisdom()\n",
    "    personage2 = default_pers()\n",
    "    wins += 1 if battle(personage1, personage2) else 0\n",
    "    min_hp = min(personage1.hp, min_hp)\n",
    "print('Мудрость против дефолта: ', wins / repeat)"
   ],
   "outputs": [
    {
     "name": "stdout",
     "output_type": "stream",
     "text": [
      "Мудрость против дефолта:  0.6036\n"
     ]
    }
   ],
   "execution_count": 17
  },
  {
   "metadata": {
    "ExecuteTime": {
     "end_time": "2024-06-23T16:10:59.896559Z",
     "start_time": "2024-06-23T16:10:59.785398Z"
    }
   },
   "cell_type": "code",
   "source": [
    "wins = 0\n",
    "min_hp = 10000\n",
    "for _ in range(repeat):\n",
    "    personage1 = pers_with_max_strength()\n",
    "    personage2 = default_pers()\n",
    "    wins += 1 if battle(personage1, personage2) else 0\n",
    "    min_hp = min(personage1.hp, min_hp)\n",
    "print('Сила против дефолта: ', wins / repeat)"
   ],
   "outputs": [
    {
     "name": "stdout",
     "output_type": "stream",
     "text": [
      "Сила против дефолта:  0.6396\n"
     ]
    }
   ],
   "execution_count": 18
  },
  {
   "metadata": {
    "ExecuteTime": {
     "end_time": "2024-06-23T16:11:00.011062Z",
     "start_time": "2024-06-23T16:10:59.897009Z"
    }
   },
   "cell_type": "code",
   "source": [
    "wins = 0\n",
    "min_hp = 10000\n",
    "for _ in range(repeat):\n",
    "    personage1 = pers_with_max_agility()\n",
    "    personage2 = default_pers()\n",
    "    wins += 1 if battle(personage1, personage2) else 0\n",
    "    min_hp = min(personage1.hp, min_hp)\n",
    "print('Ловкость против дефолта: ', wins / repeat)"
   ],
   "outputs": [
    {
     "name": "stdout",
     "output_type": "stream",
     "text": [
      "Ловкость против дефолта:  0.5942\n"
     ]
    }
   ],
   "execution_count": 19
  },
  {
   "cell_type": "code",
   "source": [
    "wins = 0\n",
    "min_hp = 10000\n",
    "for _ in range(repeat):\n",
    "    personage1 = Personage(500, 50, 20, 2, 5, 8)\n",
    "    personage2 = Personage(500, 50, 20, 5, 5, 5)\n",
    "    wins += 1 if battle(personage1, personage2) else 0\n",
    "    min_hp = min(personage1.hp, min_hp)\n",
    "print(wins / repeat)"
   ],
   "metadata": {
    "collapsed": false,
    "ExecuteTime": {
     "end_time": "2024-06-23T16:11:00.128042Z",
     "start_time": "2024-06-23T16:11:00.011587Z"
    }
   },
   "outputs": [
    {
     "name": "stdout",
     "output_type": "stream",
     "text": [
      "0.4986\n"
     ]
    }
   ],
   "execution_count": 20
  },
  {
   "cell_type": "code",
   "source": [
    "wins = 0\n",
    "min_hp = 10000\n",
    "for _ in range(repeat):\n",
    "    personage1 = Personage(500, 50, 20, 9, 1, 5)\n",
    "    personage2 = Personage(500, 50, 20, 5, 5, 5)\n",
    "    wins += 1 if battle(personage1, personage2) else 0\n",
    "    min_hp = min(personage1.hp, min_hp)\n",
    "print(wins / repeat)"
   ],
   "metadata": {
    "collapsed": false,
    "ExecuteTime": {
     "end_time": "2024-06-23T16:11:00.245702Z",
     "start_time": "2024-06-23T16:11:00.128521Z"
    }
   },
   "outputs": [
    {
     "name": "stdout",
     "output_type": "stream",
     "text": [
      "0.7128\n"
     ]
    }
   ],
   "execution_count": 21
  },
  {
   "cell_type": "code",
   "source": [
    "wins = 0\n",
    "min_hp = 10000\n",
    "for _ in range(repeat):\n",
    "    personage1 = Personage(500, 50, 20, 13, 1, 1)\n",
    "    personage2 = Personage(500, 50, 20, 4, 1, 10)\n",
    "    wins += 1 if battle(personage1, personage2) else 0\n",
    "    min_hp = min(personage1.hp, min_hp)\n",
    "print(wins / repeat)"
   ],
   "metadata": {
    "collapsed": false,
    "ExecuteTime": {
     "end_time": "2024-06-23T16:11:00.354637Z",
     "start_time": "2024-06-23T16:11:00.246204Z"
    }
   },
   "outputs": [
    {
     "name": "stdout",
     "output_type": "stream",
     "text": [
      "0.2908\n"
     ]
    }
   ],
   "execution_count": 22
  },
  {
   "cell_type": "code",
   "source": [
    "def calculate_power(pers):\n",
    "    default = default_pers()\n",
    "    crit_chance = calculate_crit_chance(pers.wisdom - default.wisdom) / 100\n",
    "    dodge_chance = calculate_dodge_chance(pers.agility - default.agility) / 100\n",
    "    attack_bonus = calculate_attack_bonus(pers.strength - default.strength)\n",
    "    \n",
    "    attack = pers.attack * (1 + attack_bonus)\n",
    "    defense = (4 * pers.defense)\n",
    "    tmp = pers.advantage(default)\n",
    "    advantage = tmp if tmp > 1 else 1 / default.advantage(pers)\n",
    "    \n",
    "    return (pers.hp + defense) * (1 / (1 - dodge_chance)) * ((1 + crit_chance) * attack) * advantage"
   ],
   "metadata": {
    "collapsed": false,
    "ExecuteTime": {
     "end_time": "2024-06-23T16:11:00.357082Z",
     "start_time": "2024-06-23T16:11:00.355088Z"
    }
   },
   "outputs": [],
   "execution_count": 23
  },
  {
   "metadata": {
    "ExecuteTime": {
     "end_time": "2024-06-23T16:11:00.368497Z",
     "start_time": "2024-06-23T16:11:00.357578Z"
    }
   },
   "cell_type": "code",
   "source": "calculate_power(pers_with_max_strength())",
   "outputs": [
    {
     "data": {
      "text/plain": [
       "40074.286990009496"
      ]
     },
     "execution_count": 24,
     "metadata": {},
     "output_type": "execute_result"
    }
   ],
   "execution_count": 24
  },
  {
   "metadata": {
    "ExecuteTime": {
     "end_time": "2024-06-23T16:11:00.379163Z",
     "start_time": "2024-06-23T16:11:00.368929Z"
    }
   },
   "cell_type": "code",
   "source": "calculate_power(pers_with_max_agility())",
   "outputs": [
    {
     "data": {
      "text/plain": [
       "39081.90569029904"
      ]
     },
     "execution_count": 25,
     "metadata": {},
     "output_type": "execute_result"
    }
   ],
   "execution_count": 25
  },
  {
   "metadata": {
    "ExecuteTime": {
     "end_time": "2024-06-23T16:11:00.394475Z",
     "start_time": "2024-06-23T16:11:00.380037Z"
    }
   },
   "cell_type": "code",
   "source": "calculate_power(pers_with_max_wisdom())",
   "outputs": [
    {
     "data": {
      "text/plain": [
       "39460.66877785395"
      ]
     },
     "execution_count": 26,
     "metadata": {},
     "output_type": "execute_result"
    }
   ],
   "execution_count": 26
  },
  {
   "metadata": {
    "ExecuteTime": {
     "end_time": "2024-06-23T16:11:00.396190Z",
     "start_time": "2024-06-23T16:11:00.394972Z"
    }
   },
   "cell_type": "code",
   "source": "",
   "outputs": [],
   "execution_count": 26
  }
 ],
 "metadata": {
  "kernelspec": {
   "display_name": "Python 3",
   "language": "python",
   "name": "python3"
  },
  "language_info": {
   "codemirror_mode": {
    "name": "ipython",
    "version": 2
   },
   "file_extension": ".py",
   "mimetype": "text/x-python",
   "name": "python",
   "nbconvert_exporter": "python",
   "pygments_lexer": "ipython2",
   "version": "2.7.6"
  }
 },
 "nbformat": 4,
 "nbformat_minor": 0
}
